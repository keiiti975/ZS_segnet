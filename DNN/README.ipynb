{
 "cells": [
  {
   "cell_type": "markdown",
   "metadata": {},
   "source": [
    "# 12/17"
   ]
  },
  {
   "cell_type": "markdown",
   "metadata": {},
   "source": [
    "- パラメーターを調整:MSE_batch12_v2.json  \n",
    "-> 正規化をしてもあまりtrain_accuracyに変化なし"
   ]
  },
  {
   "cell_type": "markdown",
   "metadata": {},
   "source": [
    "# 12/18"
   ]
  },
  {
   "cell_type": "markdown",
   "metadata": {},
   "source": [
    "- モデルの層が多すぎて画像の量に関わらず学習できないのでは？\n",
    "\n",
    "--- note ---\n",
    "- listにモデル要素を入れてnn.ModuleList(list)とするとモデルをリスト形式で定義できる。ただし取り出すときはイテレータになる\n",
    "- jupyter_notebookの中で他のセルで用いられるものは関数の外側で定義する"
   ]
  },
  {
   "cell_type": "markdown",
   "metadata": {},
   "source": [
    "# 12/19"
   ]
  },
  {
   "cell_type": "markdown",
   "metadata": {},
   "source": [
    "--- note ---\n",
    "- modelを構築するときは次元数に気を付けよう"
   ]
  },
  {
   "cell_type": "markdown",
   "metadata": {},
   "source": [
    "# 12/20"
   ]
  },
  {
   "cell_type": "markdown",
   "metadata": {},
   "source": [
    "- segnetのパラメータ数を減らして動かしてみる -> segnet2.pyを作成  \n",
    "MSE_batch12_seg2.ipynbで動かす\n",
    "- 画素の分布でlossに正規化を行う -> zs_dataset_list2.pyを作成  \n",
    "MSE_batch12_msk.ipynbで動かす\n",
    "\n",
    "\n",
    "おそらくうまく学習できないのはmskをうまく定義出来ていないから\n",
    "-> うまくいかないので保留"
   ]
  },
  {
   "cell_type": "markdown",
   "metadata": {},
   "source": [
    "# 12/21"
   ]
  },
  {
   "cell_type": "markdown",
   "metadata": {},
   "source": [
    "- 既知クラスを推定し未知クラスへ移す方法  \n",
    "MSE_batch12_tr.ipynbで動かす\n",
    "- モデルの学習がうまく進むように画素に重みを掛ける -> zs_dataset_list2.pyを作成  \n",
    "MSE_batch12_tr.ipynbに組み込み\n",
    "\n",
    "--- note ---  \n",
    "mskとして画素数の割合を掛けたものは一部しか学習しなかった  \n",
    "mskをランダムに生成してかけ合わせると画素数の少ないクラスもうまく学習できる？  \n",
    "-> 良く学習する(MSE_batch12_wr.ipynb)"
   ]
  },
  {
   "cell_type": "markdown",
   "metadata": {},
   "source": [
    "# 12/22"
   ]
  },
  {
   "cell_type": "markdown",
   "metadata": {},
   "source": [
    "- CEのweightをランダムにして学習  \n",
    "CE_batch10_wr.ipynbで動かす"
   ]
  }
 ],
 "metadata": {
  "kernelspec": {
   "display_name": "Python 3",
   "language": "python",
   "name": "python3"
  },
  "language_info": {
   "codemirror_mode": {
    "name": "ipython",
    "version": 3
   },
   "file_extension": ".py",
   "mimetype": "text/x-python",
   "name": "python",
   "nbconvert_exporter": "python",
   "pygments_lexer": "ipython3",
   "version": "3.6.5"
  }
 },
 "nbformat": 4,
 "nbformat_minor": 2
}
