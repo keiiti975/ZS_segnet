{
 "cells": [
  {
   "cell_type": "code",
   "execution_count": 2,
   "metadata": {},
   "outputs": [],
   "source": [
    "\"\"\"zero shot segmentation using segnet(image->word)\"\"\"\n",
    "# imports without torch\n",
    "import numpy as np\n",
    "import argparse\n",
    "import os\n",
    "import os.path\n",
    "import visdom\n",
    "from PIL import Image\n",
    "from tqdm import tqdm\n",
    "import json\n",
    "\n",
    "##########\n",
    "# imports torch\n",
    "import torch\n",
    "import torchvision\n",
    "import torchvision.models as models\n",
    "import torchvision.transforms as transforms\n",
    "from torch.autograd import Variable\n",
    "import torch.nn.functional as F\n",
    "import torch.nn as nn\n",
    "import torch.optim as optim\n",
    "##########\n",
    "\n",
    "# imports models\n",
    "import model.segnet as segnet\n",
    "import model.encoder as encoder  # label->word\n",
    "import model.decoder as decoder  # word->label\n",
    "import zs_dataset_list as datasets\n",
    "\n",
    "# imports utility\n",
    "import make_log as flog\n",
    "\n",
    "%load_ext line_profiler"
   ]
  },
  {
   "cell_type": "code",
   "execution_count": 3,
   "metadata": {},
   "outputs": [],
   "source": [
    "def mod(x):\n",
    "    if x == \"true\":\n",
    "        return True\n",
    "    if x ==\"false\":\n",
    "        return False\n",
    "    return x\n"
   ]
  },
  {
   "cell_type": "code",
   "execution_count": 4,
   "metadata": {},
   "outputs": [
    {
     "name": "stdout",
     "output_type": "stream",
     "text": [
      "{'model': True, 'encoder': False, 'decoder': False, 'input_nbr': 3, 'target_nbr': 100, 'semantic_nbr': 0, 'batch_size': 12, 'epochs': 10, 'lr': 0.01, 'momentum': 0.5, 'seed': 1, 'lamda': 0, 'input_root': './data/train/input', 'target_root': './data/train/zs_target2', 'map_root': './data/train/target', 'filenames': './data/train/names.txt', 'semantic_filename': './v_class/class1.txt', 'project_dir': './model/MSE_batch12', 'model_load_pth': 'segnet.pth', 'head_load_pth': 'segnet.pth', 'save_pth': 'segnet.pth', 'output_dir': './data/MSE_batch12', 'n_components': 100, 'PCA': False, 'cos_similarity': False, 'jaccard_similarity': False}\n"
     ]
    }
   ],
   "source": [
    "f_config = open(os.path.join(\"./config/MSE_batch12.json\"), \"r\")\n",
    "args = json.load(f_config)\n",
    "args ={k:mod(v) for k,v in args.items()}\n",
    "print(args)\n",
    "\n",
    "# device settings\n",
    "USE_CUDA = True\n",
    "\n",
    "# input,label data settings\n",
    "input_nbr = args[\"input_nbr\"]  # 入力次元数\n",
    "target_nbr = args[\"target_nbr\"]  # 出力次元数\n",
    "\n",
    "# set the seed\n",
    "torch.manual_seed(args[\"seed\"])\n",
    "torch.cuda.manual_seed(args[\"seed\"])\n",
    "\n",
    "model = segnet.SegNet(input_nbr, target_nbr)\n",
    "if USE_CUDA:  # convert to cuda if needed\n",
    "    model.cuda()\n",
    "else:\n",
    "    model.float()\n",
    "model=model.eval()"
   ]
  },
  {
   "cell_type": "code",
   "execution_count": null,
   "metadata": {},
   "outputs": [],
   "source": []
  },
  {
   "cell_type": "code",
   "execution_count": 5,
   "metadata": {},
   "outputs": [],
   "source": [
    "# Create visdom\n",
    "vis = visdom.Visdom()\n",
    "# Create log model\n",
    "f_log = flog.make_log(args[\"project_dir\"])\n",
    "optimizer = optim.SGD(model.parameters(),\n",
    "                          lr=args[\"lr\"], momentum=args[\"momentum\"])"
   ]
  },
  {
   "cell_type": "code",
   "execution_count": 6,
   "metadata": {},
   "outputs": [
    {
     "name": "stderr",
     "output_type": "stream",
     "text": [
      "  0%|          | 2/118286 [00:00<1:49:13, 18.05it/s]"
     ]
    },
    {
     "name": "stdout",
     "output_type": "stream",
     "text": [
      "removing grayscales ...\n"
     ]
    },
    {
     "name": "stderr",
     "output_type": "stream",
     "text": [
      "100%|██████████| 118286/118286 [06:04<00:00, 324.43it/s]\n",
      " 48%|████▊     | 2396/5000 [00:00<00:00, 11977.44it/s]"
     ]
    },
    {
     "name": "stdout",
     "output_type": "stream",
     "text": [
      "removing grayscales ...\n"
     ]
    },
    {
     "name": "stderr",
     "output_type": "stream",
     "text": [
      "100%|██████████| 5000/5000 [00:00<00:00, 11964.04it/s]\n"
     ]
    },
    {
     "name": "stdout",
     "output_type": "stream",
     "text": [
      "initialize from vgg16\n"
     ]
    }
   ],
   "source": [
    "# compose transforms\n",
    "train_transform = transforms.Compose(\n",
    "    [transforms.RandomResizedCrop(256, scale=(1.0, 1.0), ratio=(1.0, 1.0))]\n",
    ")\n",
    "test_transform = transforms.Compose(\n",
    "    []\n",
    ")\n",
    "\n",
    "# load dataset\n",
    "trainset = datasets.ImageFolderDenseFileLists(\n",
    "    input_root=args[\"input_root\"], target_root=args[\"target_root\"],\n",
    "    map_root=args[\"map_root\"], filenames=args[\"filenames\"],\n",
    "    semantic_filename=args[\"semantic_filename\"], training=True,\n",
    "    batch_size=args[\"batch_size\"], config=args, transform=train_transform)\n",
    "trainloader = torch.utils.data.DataLoader(\n",
    "    trainset, batch_size=args[\"batch_size\"], shuffle=True,\n",
    "    num_workers=args[\"batch_size\"])\n",
    "testset = datasets.ImageFolderDenseFileLists(\n",
    "    input_root='./data/test/input', target_root=None,\n",
    "    map_root=None, filenames='./data/test/names.txt',\n",
    "    semantic_filename=args[\"semantic_filename\"], training=False,\n",
    "    batch_size=1, config=args, transform=test_transform)\n",
    "testloader = torch.utils.data.DataLoader(\n",
    "    testset, batch_size=1, shuffle=False, num_workers=1)\n",
    "\n",
    "model.initialized_with_pretrained_weights()"
   ]
  },
  {
   "cell_type": "code",
   "execution_count": 7,
   "metadata": {},
   "outputs": [],
   "source": [
    "def model_train(epoch, trainloader):\n",
    "    # set model to train mode\n",
    "    model.train()\n",
    "\n",
    "    # update learning rate\n",
    "    lr = args[\"lr\"] * (0.1 ** (epoch // 30))\n",
    "    for param_group in optimizer.param_groups:\n",
    "        param_group['lr'] = lr\n",
    "\n",
    "    # define a loss\n",
    "    # 今回の場合背景クラスを考慮しないので重み付けはしない\n",
    "    if USE_CUDA:\n",
    "        loss = nn.MSELoss(size_average=True).cuda()\n",
    "        l1_loss = nn.L1Loss(size_average=False).cuda()\n",
    "    else:\n",
    "        loss = nn.MSELoss(size_average=True)\n",
    "        l1_loss = nn.L1Loss(size_average=False)\n",
    "\n",
    "    total_loss = 0\n",
    "\n",
    "    # define epoch_size\n",
    "    epoch_size = len(trainloader)\n",
    "\n",
    "    # define batch_loss\n",
    "    batch_loss = 0\n",
    "\n",
    "    # define lamda\n",
    "    lamda = args[\"lamda\"]\n",
    "\n",
    "    # define annotations\n",
    "    v_array = trainloader.dataset.v_array\n",
    "    v_array = torch.from_numpy(v_array)\n",
    "\n",
    "    # iteration over the batches\n",
    "    sync()\n",
    "    for batch_id, data in tqdm(enumerate(trainloader)):\n",
    "        sync()\n",
    "        # make batch tensor and target tensor\n",
    "        input = Variable(data['input'])\n",
    "        target = data['target']\n",
    "        mask = data['mask']\n",
    "        sync()\n",
    "        if USE_CUDA:\n",
    "            input = input.cuda()\n",
    "            target = target.cuda()\n",
    "            mask = mask.cuda()\n",
    "            v_array = v_array.cuda()\n",
    "        sync()\n",
    "        # initialize gradients\n",
    "        optimizer.zero_grad()\n",
    "        sync()\n",
    "        # predictions\n",
    "        output = model(input)\n",
    "        sync()\n",
    "        # mask tensor\n",
    "        output = output * mask\n",
    "        target = target * mask\n",
    "        sync()\n",
    "        # calculate loss\n",
    "        l_ = 0\n",
    "        l_ = loss(output, target)\n",
    "        l_ = l_ * output.size(1)\n",
    "        sync()\n",
    "        if lamda != 0:\n",
    "            reg_loss = 0\n",
    "            for param in model.parameters():\n",
    "                if USE_CUDA:\n",
    "                    param_target = Variable(torch.zeros(param.size())).cuda()\n",
    "                else:\n",
    "                    param_target = Variable(torch.zeros(param.size()))\n",
    "                reg_loss += l1_loss(param, param_target)\n",
    "\n",
    "            reg_loss = lamda * reg_loss\n",
    "            l_ += l_ + reg_loss\n",
    "        sync()\n",
    "        total_loss += l_.item()\n",
    "        sync()\n",
    "        # backward loss\n",
    "        l_.backward()\n",
    "        sync()\n",
    "        # optimizer step\n",
    "        optimizer.step()\n",
    "        sync()\n",
    "        # train conditions\n",
    "        \"\"\"\n",
    "        if lamda != 0:\n",
    "            print(\"epoch=%d, id=%d, reg_loss=%f, loss=%f\" %\n",
    "                 (epoch, batch_id, reg_loss.item(), l_.item()))\n",
    "        else:\n",
    "            print(\"epoch=%d, id=%d, loss=%f\" %\n",
    "                 (epoch, batch_id, l_.item()))\n",
    "        \"\"\"\n",
    "\n",
    "        # visualize train condition\n",
    "        if batch_id % 10 == 0 and batch_id != 0:\n",
    "            batch_loss = batch_loss + l_.item()\n",
    "            batch_loss = batch_loss / 10\n",
    "            # display visdom board\n",
    "            phase = epoch + batch_id / epoch_size\n",
    "            #visualize(phase, batch_loss, win)\n",
    "            batch_loss = 0\n",
    "        else:\n",
    "            batch_loss = batch_loss + l_.item()\n",
    "        if batch_id % 10000 == 0 and batch_id != 0:\n",
    "            target_map = data[\"map\"]\n",
    "            model.eval()\n",
    "            output = model(input)\n",
    "            model_evaluate(output, target_map, v_array,\n",
    "                           epoch, epoch_size, batch_id)\n",
    "            model.train()\n",
    "        if batch_id ==1000:\n",
    "            break\n",
    "        sync()\n",
    "    return total_loss\n",
    "\n",
    "def model_test(testloader):\n",
    "    # set model to eval mode\n",
    "    model.eval()\n",
    "\n",
    "    # define v_array\n",
    "    v_array = testloader.dataset.v_array\n",
    "    v_array = torch.from_numpy(v_array)\n",
    "\n",
    "    # make output_dir\n",
    "    if not os.path.isdir(args[\"output_dir\"]):\n",
    "        os.makedirs(args[\"output_dir\"])\n",
    "\n",
    "    # iteration over the batches\n",
    "    for batch_id, data in enumerate(testloader):\n",
    "        # make batch tensor and target tensor\n",
    "        input = Variable(data['input'])\n",
    "\n",
    "        if USE_CUDA:\n",
    "            input = input.cuda()\n",
    "            v_array = v_array.cuda()\n",
    "\n",
    "        # predictions\n",
    "        output = model(input)\n",
    "\n",
    "        # output segmentation_img\n",
    "        filename = os.path.basename(\n",
    "            testloader.dataset.get_filename(batch_id)[0])\n",
    "        print(filename)\n",
    "        single_output = output[0, :, :, :]\n",
    "        if args[\"cos_similarity\"] is True or args[\"jaccard_similarity\"] is True:\n",
    "            result = single_output.max(0)[1].cpu().numpy()\n",
    "            result = np.uint8(result)\n",
    "        else:\n",
    "            single_output = single_output.transpose(0, 1).transpose(1, 2)\n",
    "            result = min_euclidean(single_output, v_array)\n",
    "            result = np.uint8(result.cpu().numpy())\n",
    "\n",
    "        Image.fromarray(result).save(\n",
    "            os.path.join(args[\"output_dir\"], filename))\n",
    "\n",
    "\n",
    "def model_evaluate(output, target_map, v_array, epoch, epoch_size, batch_id):\n",
    "    data_num = 0\n",
    "    correct_num = 0\n",
    "    print(\"evaluating ...\")\n",
    "    for id in tqdm(range(output.shape[0])):\n",
    "        single_output = output[id, :, :, :]\n",
    "        target = target_map[id, :, :].cpu().numpy()\n",
    "        if args[\"cos_similarity\"] is True or args[\"jaccard_similarity\"] is True:\n",
    "            result = single_output.max(0)[1].cpu().numpy()\n",
    "            result = np.uint8(result)\n",
    "        else:\n",
    "            single_output = single_output.transpose(0, 1).transpose(1, 2)\n",
    "            result = min_euclidean(single_output, v_array)\n",
    "            result = np.uint8(result.cpu().numpy())\n",
    "\n",
    "        for i in range(output.size(2)):\n",
    "            for j in range(output.size(3)):\n",
    "                if target[i, j] < 200:\n",
    "                    data_num = data_num + 1\n",
    "                    if result[i, j] == target[i, j]:\n",
    "                        correct_num = correct_num + 1\n",
    "    phase = epoch + batch_id / epoch_size\n",
    "    visualize(phase, (correct_num / data_num), win_acc)\n",
    "\n",
    "\n",
    "def visualize(phase, visualized_data, window):\n",
    "    vis.line(\n",
    "        X=np.array([phase]),\n",
    "        Y=np.array([visualized_data]),\n",
    "        update='append',\n",
    "        win=window\n",
    "    )\n",
    "\n",
    "\n",
    "def min_euclidean(out, sem):\n",
    "    \"\"\"pytorch calculate euclidean\"\"\"\n",
    "    nbr = out.size(1)\n",
    "    ab = torch.mm(out.view(-1, nbr), sem.t())\n",
    "    ab = ab.view(out.size(0), out.size(1), sem.size(0))\n",
    "    aa = (sem**2).sum(1)\n",
    "    bb = (out**2).sum(-1)\n",
    "    res = aa[None, None, :] + bb[:, :, None] - 2 * ab\n",
    "    return res.min(-1)[1]\n",
    "\n",
    "\n",
    "def min_euclidean2(out, sem):\n",
    "    \"\"\"numpy calculate euclidean\"\"\"\n",
    "    ab = np.dot(out, sem.transpose())\n",
    "    aa = (sem**2).sum(1)\n",
    "    bb = (out**2).sum(-1)\n",
    "    res = aa[None, None, :] + bb[:, :, None] - 2 * ab\n",
    "    return res.argmin(-1)"
   ]
  },
  {
   "cell_type": "markdown",
   "metadata": {},
   "source": [
    "# Profiling"
   ]
  },
  {
   "cell_type": "code",
   "execution_count": 88,
   "metadata": {},
   "outputs": [
    {
     "name": "stdout",
     "output_type": "stream",
     "text": [
      "CPU times: user 40 ms, sys: 1.29 s, total: 1.33 s\n",
      "Wall time: 6.39 s\n"
     ]
    }
   ],
   "source": [
    "def timer1():\n",
    "    for batch_id, data in enumerate(trainloader):\n",
    "        break\n",
    "        \n",
    "%time timer1()\n",
    "\n",
    "SYNC = True\n",
    "\n",
    "def sync():\n",
    "    if SYNC:\n",
    "        torch.cuda.synchronize()"
   ]
  },
  {
   "cell_type": "code",
   "execution_count": 89,
   "metadata": {},
   "outputs": [
    {
     "name": "stderr",
     "output_type": "stream",
     "text": [
      "1000it [08:55,  1.87it/s]"
     ]
    },
    {
     "data": {
      "text/plain": [
       "Timer unit: 1e-06 s\n",
       "\n",
       "Total time: 537.404 s\n",
       "File: <ipython-input-7-eebfb64d5152>\n",
       "Function: model_train at line 1\n",
       "\n",
       "Line #      Hits         Time  Per Hit   % Time  Line Contents\n",
       "==============================================================\n",
       "     1                                           def model_train(epoch, trainloader):\n",
       "     2                                               # set model to train mode\n",
       "     3         1        971.0    971.0      0.0      model.train()\n",
       "     4                                           \n",
       "     5                                               # update learning rate\n",
       "     6         1          9.0      9.0      0.0      lr = args[\"lr\"] * (0.1 ** (epoch // 30))\n",
       "     7         2         14.0      7.0      0.0      for param_group in optimizer.param_groups:\n",
       "     8         1          5.0      5.0      0.0          param_group['lr'] = lr\n",
       "     9                                           \n",
       "    10                                               # define a loss\n",
       "    11                                               # 今回の場合背景クラスを考慮しないので重み付けはしない\n",
       "    12         1          2.0      2.0      0.0      if USE_CUDA:\n",
       "    13         1        224.0    224.0      0.0          loss = nn.MSELoss(size_average=True).cuda()\n",
       "    14         1        123.0    123.0      0.0          l1_loss = nn.L1Loss(size_average=False).cuda()\n",
       "    15                                               else:\n",
       "    16                                                   loss = nn.MSELoss(size_average=True)\n",
       "    17                                                   l1_loss = nn.L1Loss(size_average=False)\n",
       "    18                                           \n",
       "    19         1          1.0      1.0      0.0      total_loss = 0\n",
       "    20                                           \n",
       "    21                                               # define epoch_size\n",
       "    22         1         44.0     44.0      0.0      epoch_size = len(trainloader)\n",
       "    23                                           \n",
       "    24                                               # define batch_loss\n",
       "    25         1          2.0      2.0      0.0      batch_loss = 0\n",
       "    26                                           \n",
       "    27                                               # define lamda\n",
       "    28         1          2.0      2.0      0.0      lamda = args[\"lamda\"]\n",
       "    29                                           \n",
       "    30                                               # define annotations\n",
       "    31         1          7.0      7.0      0.0      v_array = trainloader.dataset.v_array\n",
       "    32         1         27.0     27.0      0.0      v_array = torch.from_numpy(v_array)\n",
       "    33                                           \n",
       "    34                                               # iteration over the batches\n",
       "    35         1        106.0    106.0      0.0      sync()\n",
       "    36      1001   83090234.0  83007.2     15.5      for batch_id, data in tqdm(enumerate(trainloader)):\n",
       "    37      1001      35462.0     35.4      0.0          sync()\n",
       "    38                                                   # make batch tensor and target tensor\n",
       "    39      1001      15205.0     15.2      0.0          input = Variable(data['input'])\n",
       "    40      1001       3937.0      3.9      0.0          target = data['target']\n",
       "    41      1001       3677.0      3.7      0.0          mask = data['mask']\n",
       "    42      1001       7085.0      7.1      0.0          sync()\n",
       "    43      1001       1755.0      1.8      0.0          if USE_CUDA:\n",
       "    44      1001    1713612.0   1711.9      0.3              input = input.cuda()\n",
       "    45      1001   50333287.0  50283.0      9.4              target = target.cuda()\n",
       "    46      1001   49577222.0  49527.7      9.2              mask = mask.cuda()\n",
       "    47      1001      16135.0     16.1      0.0              v_array = v_array.cuda()\n",
       "    48      1001      23469.0     23.4      0.0          sync()\n",
       "    49                                                   # initialize gradients\n",
       "    50      1001     505742.0    505.2      0.1          optimizer.zero_grad()\n",
       "    51      1001     127309.0    127.2      0.0          sync()\n",
       "    52                                                   # predictions\n",
       "    53      1001    4465668.0   4461.2      0.8          output = model(input)\n",
       "    54      1001   88299855.0  88211.6     16.4          sync()\n",
       "    55                                                   # mask tensor\n",
       "    56      1001      98407.0     98.3      0.0          output = output * mask\n",
       "    57      1001      20083.0     20.1      0.0          target = target * mask\n",
       "    58      1001    4859895.0   4855.0      0.9          sync()\n",
       "    59                                                   # calculate loss\n",
       "    60      1001      75752.0     75.7      0.0          l_ = 0\n",
       "    61      1001    2136856.0   2134.7      0.4          l_ = loss(output, target)\n",
       "    62      1001      44131.0     44.1      0.0          l_ = l_ * output.size(1)\n",
       "    63      1001      19407.0     19.4      0.0          sync()\n",
       "    64      1001       1663.0      1.7      0.0          if lamda != 0:\n",
       "    65                                                       reg_loss = 0\n",
       "    66                                                       for param in model.parameters():\n",
       "    67                                                           if USE_CUDA:\n",
       "    68                                                               param_target = Variable(torch.zeros(param.size())).cuda()\n",
       "    69                                                           else:\n",
       "    70                                                               param_target = Variable(torch.zeros(param.size()))\n",
       "    71                                                           reg_loss += l1_loss(param, param_target)\n",
       "    72                                           \n",
       "    73                                                       reg_loss = lamda * reg_loss\n",
       "    74                                                       l_ += l_ + reg_loss\n",
       "    75      1001       5250.0      5.2      0.0          sync()\n",
       "    76      1001      19082.0     19.1      0.0          total_loss += l_.item()\n",
       "    77      1001       6040.0      6.0      0.0          sync()\n",
       "    78                                                   # backward loss\n",
       "    79      1001    5577022.0   5571.5      1.0          l_.backward()\n",
       "    80      1001  242775183.0 242532.7     45.2          sync()\n",
       "    81                                                   # optimizer step\n",
       "    82      1001    2794338.0   2791.5      0.5          optimizer.step()\n",
       "    83      1001     696303.0    695.6      0.1          sync()\n",
       "    84                                                   # train conditions\n",
       "    85                                                   \"\"\"\n",
       "    86                                                   if lamda != 0:\n",
       "    87                                                       print(\"epoch=%d, id=%d, reg_loss=%f, loss=%f\" %\n",
       "    88                                                            (epoch, batch_id, reg_loss.item(), l_.item()))\n",
       "    89                                                   else:\n",
       "    90                                                       print(\"epoch=%d, id=%d, loss=%f\" %\n",
       "    91                                                            (epoch, batch_id, l_.item()))\n",
       "    92                                                   \"\"\"\n",
       "    93                                           \n",
       "    94                                                   # visualize train condition\n",
       "    95      1001       3286.0      3.3      0.0          if batch_id % 10 == 0 and batch_id != 0:\n",
       "    96       100       3500.0     35.0      0.0              batch_loss = batch_loss + l_.item()\n",
       "    97       100        291.0      2.9      0.0              batch_loss = batch_loss / 10\n",
       "    98                                                       # display visdom board\n",
       "    99       100        220.0      2.2      0.0              phase = epoch + batch_id / epoch_size\n",
       "   100                                                       #visualize(phase, batch_loss, win)\n",
       "   101       100        148.0      1.5      0.0              batch_loss = 0\n",
       "   102                                                   else:\n",
       "   103       901      31915.0     35.4      0.0              batch_loss = batch_loss + l_.item()\n",
       "   104      1001       1969.0      2.0      0.0          if batch_id % 10000 == 0 and batch_id != 0:\n",
       "   105                                                       target_map = data[\"map\"]\n",
       "   106                                                       model.eval()\n",
       "   107                                                       output = model(input)\n",
       "   108                                                       model_evaluate(output, target_map, v_array,\n",
       "   109                                                                      epoch, epoch_size, batch_id)\n",
       "   110                                                       model.train()\n",
       "   111      1001       1571.0      1.6      0.0          if batch_id ==1000:\n",
       "   112         1         10.0     10.0      0.0              break\n",
       "   113      1000      10315.0     10.3      0.0          sync()\n",
       "   114         1          1.0      1.0      0.0      return total_loss"
      ]
     },
     "metadata": {},
     "output_type": "display_data"
    }
   ],
   "source": [
    "%lprun -f model_train model_train(0, trainloader)"
   ]
  },
  {
   "cell_type": "markdown",
   "metadata": {},
   "source": [
    "# Investigate model"
   ]
  },
  {
   "cell_type": "code",
   "execution_count": 11,
   "metadata": {},
   "outputs": [],
   "source": [
    "epoch = 0\n",
    "import torch.nn.functional as F"
   ]
  },
  {
   "cell_type": "code",
   "execution_count": 12,
   "metadata": {},
   "outputs": [],
   "source": [
    "model.train()\n",
    "\n",
    "# update learning rate\n",
    "lr = args[\"lr\"] * (0.1 ** (epoch // 30))\n",
    "for param_group in optimizer.param_groups:\n",
    "    param_group['lr'] = lr\n",
    "\n",
    "loss = nn.MSELoss(size_average=True)"
   ]
  },
  {
   "cell_type": "code",
   "execution_count": null,
   "metadata": {},
   "outputs": [],
   "source": []
  },
  {
   "cell_type": "code",
   "execution_count": null,
   "metadata": {},
   "outputs": [],
   "source": [
    "output\n",
    "target_map\n",
    "v_array\n",
    "epoch\n",
    "epoch_size\n",
    "batch_id"
   ]
  },
  {
   "cell_type": "code",
   "execution_count": null,
   "metadata": {},
   "outputs": [],
   "source": [
    "def min_euclidean(out, sem):\n",
    "    \"\"\"pytorch calculate euclidean\"\"\"\n",
    "    nbr = out.size(1)\n",
    "    ab = torch.mm(out.view(-1, nbr), sem.t())\n",
    "    ab = ab.view(out.size(0), out.size(1), sem.size(0))\n",
    "    aa = (sem**2).sum(1)\n",
    "    bb = (out**2).sum(-1)\n",
    "    res = aa[None, None, :] + bb[:, :, None] - 2 * ab\n",
    "    return res.min(-1)[1]\n"
   ]
  },
  {
   "cell_type": "code",
   "execution_count": null,
   "metadata": {},
   "outputs": [],
   "source": [
    "data_num = 0\n",
    "correct_num = 0\n",
    "print(\"evaluating ...\")\n",
    "\n",
    "single_output = output[id, :, :, :]\n",
    "target = target_map[id, :, :].cpu().numpy()\n",
    "single_output = single_output.transpose(0, 1).transpose(1, 2)\n",
    "\n",
    "result = min_euclidean(single_output, v_array)\n",
    "result = np.uint8(result.cpu().numpy())"
   ]
  },
  {
   "cell_type": "code",
   "execution_count": null,
   "metadata": {},
   "outputs": [],
   "source": [
    "    for i in range(output.size(2)):\n",
    "        for j in range(output.size(3)):\n",
    "            if target[i, j] < 200:\n",
    "                data_num = data_num + 1\n",
    "                if result[i, j] == target[i, j]:\n",
    "                    correct_num = correct_num + 1\n",
    "\n",
    "phase = epoch + batch_id / epoch_size\n"
   ]
  },
  {
   "cell_type": "code",
   "execution_count": null,
   "metadata": {},
   "outputs": [],
   "source": []
  },
  {
   "cell_type": "code",
   "execution_count": 13,
   "metadata": {},
   "outputs": [],
   "source": [
    "total_loss = 0\n",
    "epoch_size = len(trainloader)\n",
    "batch_loss = 0\n",
    "lamda = args[\"lamda\"]\n",
    "v_array = trainloader.dataset.v_array\n",
    "v_array = torch.from_numpy(v_array)\n",
    "v_array = F.normalize(v_array)"
   ]
  },
  {
   "cell_type": "code",
   "execution_count": 22,
   "metadata": {},
   "outputs": [],
   "source": [
    "#F.normalize(v_array,)\n",
    "#v_array#.size()"
   ]
  },
  {
   "cell_type": "code",
   "execution_count": 80,
   "metadata": {},
   "outputs": [
    {
     "name": "stderr",
     "output_type": "stream",
     "text": [
      "0it [00:00, ?it/s]\n"
     ]
    }
   ],
   "source": [
    "for batch_id, data in tqdm(enumerate(trainloader)):\n",
    "    break"
   ]
  },
  {
   "cell_type": "code",
   "execution_count": 87,
   "metadata": {},
   "outputs": [],
   "source": [
    "#Y=np.unique(data[\"map\"][0].cpu().numpy(), return_counts=True)[1]\n",
    "#Y/Y.sum()"
   ]
  },
  {
   "cell_type": "code",
   "execution_count": 24,
   "metadata": {},
   "outputs": [
    {
     "data": {
      "text/plain": [
       "dict_keys(['input', 'target', 'mask', 'map'])"
      ]
     },
     "execution_count": 24,
     "metadata": {},
     "output_type": "execute_result"
    }
   ],
   "source": [
    "data.keys()"
   ]
  },
  {
   "cell_type": "code",
   "execution_count": 49,
   "metadata": {},
   "outputs": [
    {
     "data": {
      "text/plain": [
       "<matplotlib.image.AxesImage at 0x7fb36837aa90>"
      ]
     },
     "execution_count": 49,
     "metadata": {},
     "output_type": "execute_result"
    },
    {
     "data": {
      "image/png": "[encoded data removed]",
      "text/plain": [
       "<Figure size 432x288 with 1 Axes>"
      ]
     },
     "metadata": {},
     "output_type": "display_data"
    }
   ],
   "source": [
    "import matplotlib.pyplot as plt\n",
    "%matplotlib inline\n",
    "cmap = np.random.randint(0,126, (400,3))\n",
    "x = data[\"map\"][1].cpu().numpy()\n",
    "plt.imshow(cmap[x])"
   ]
  },
  {
   "cell_type": "code",
   "execution_count": null,
   "metadata": {},
   "outputs": [],
   "source": []
  },
  {
   "cell_type": "code",
   "execution_count": 53,
   "metadata": {},
   "outputs": [],
   "source": [
    "from torchvision.transforms.transforms import Resize\n",
    "#Resize()\n",
    "#PIL.Image.NEAREST\n",
    "#x=np.unique(x, return_counts=True)\n",
    "#data[\"mask\"].cpu().numpy()#plt.imshow(data[\"mask\"][0,0].cpu().numpy())"
   ]
  },
  {
   "cell_type": "code",
   "execution_count": 61,
   "metadata": {},
   "outputs": [
    {
     "data": {
      "text/plain": [
       "torch.Size([12, 1, 256, 256])"
      ]
     },
     "execution_count": 61,
     "metadata": {},
     "output_type": "execute_result"
    }
   ],
   "source": [
    "x = data[\"mask\"][:,0:1]\n",
    "x.size()mask = mask.transpose(2, 0, 1)"
   ]
  },
  {
   "cell_type": "code",
   "execution_count": 63,
   "metadata": {},
   "outputs": [
    {
     "data": {
      "text/plain": [
       "torch.Size([12, 100, 256, 256])"
      ]
     },
     "execution_count": 63,
     "metadata": {},
     "output_type": "execute_result"
    }
   ],
   "source": [
    "output=data[\"target\"]\n",
    "output.size()\n",
    "\n",
    "(x*output).size()"
   ]
  },
  {
   "cell_type": "code",
   "execution_count": 34,
   "metadata": {},
   "outputs": [
    {
     "data": {
      "text/plain": [
       "<matplotlib.image.AxesImage at 0x7fb379354e80>"
      ]
     },
     "execution_count": 34,
     "metadata": {},
     "output_type": "execute_result"
    },
    {
     "data": {
      "image/png": "[encoded data removed]",
      "text/plain": [
       "<Figure size 432x288 with 1 Axes>"
      ]
     },
     "metadata": {},
     "output_type": "display_data"
    }
   ],
   "source": [
    "x = data[\"input\"][0].cpu().numpy()\n",
    "x= x.transpose(1,2,0)\n",
    "plt.imshow(x)\n",
    "#data[\"input\"][0]#.size()"
   ]
  },
  {
   "cell_type": "code",
   "execution_count": 76,
   "metadata": {},
   "outputs": [],
   "source": [
    "#torch.__version__\n",
    "#x=torch.ones((3,3), requires_grad=True)\n",
    "#x.sum().backward()\n",
    "#x.data, x.grad\n",
    "v_array = v_array.cuda()"
   ]
  },
  {
   "cell_type": "code",
   "execution_count": 78,
   "metadata": {},
   "outputs": [],
   "source": [
    "# sync()\n",
    "# make batch tensor and target tensor\n",
    "input = data['input']#Variable(data['input'])\n",
    "target = data['target']\n",
    "mask = data['mask']\n",
    "sync()\n",
    "\n",
    "if USE_CUDA:\n",
    "    input  = input.cuda()\n",
    "    target = target.cuda()\n",
    "    mask   = mask.cuda()\n",
    "    \n",
    "sync()\n",
    "# initialize gradients\n",
    "optimizer.zero_grad()\n",
    "sync()\n",
    "# predictions\n",
    "output = model(input)\n",
    "sync()\n",
    "# mask tensor\n",
    "output = output * mask\n",
    "target = target * mask\n",
    "sync()\n",
    "# calculate loss\n",
    "l_ = 0\n",
    "l_ = loss(output, target)\n",
    "l_ = l_ * output.size(1)\n",
    "sync()\n",
    "if lamda != 0:\n",
    "    reg_loss = 0\n",
    "    for param in model.parameters():\n",
    "        if USE_CUDA:\n",
    "            param_target = Variable(torch.zeros(param.size())).cuda()\n",
    "        else:\n",
    "            param_target = Variable(torch.zeros(param.size()))\n",
    "        reg_loss += l1_loss(param, param_target)\n",
    "\n",
    "    reg_loss = lamda * reg_loss\n",
    "    l_ += l_ + reg_loss\n",
    "sync()\n",
    "total_loss += l_.item()\n",
    "sync()\n",
    "# backward loss\n",
    "l_.backward()\n",
    "sync()\n",
    "# optimizer step\n",
    "optimizer.step()\n",
    "sync()"
   ]
  },
  {
   "cell_type": "code",
   "execution_count": null,
   "metadata": {},
   "outputs": [],
   "source": []
  },
  {
   "cell_type": "code",
   "execution_count": null,
   "metadata": {},
   "outputs": [],
   "source": []
  },
  {
   "cell_type": "code",
   "execution_count": null,
   "metadata": {},
   "outputs": [],
   "source": []
  },
  {
   "cell_type": "code",
   "execution_count": 16,
   "metadata": {},
   "outputs": [],
   "source": []
  },
  {
   "cell_type": "code",
   "execution_count": null,
   "metadata": {},
   "outputs": [],
   "source": []
  },
  {
   "cell_type": "code",
   "execution_count": null,
   "metadata": {},
   "outputs": [],
   "source": []
  },
  {
   "cell_type": "code",
   "execution_count": null,
   "metadata": {},
   "outputs": [],
   "source": [
    "data.keys()"
   ]
  },
  {
   "cell_type": "code",
   "execution_count": null,
   "metadata": {},
   "outputs": [],
   "source": [
    "epoch=0 \n",
    "loss = model_train(epoch, trainloader)\n",
    "model_test(testloader)"
   ]
  },
  {
   "cell_type": "code",
   "execution_count": null,
   "metadata": {},
   "outputs": [],
   "source": []
  },
  {
   "cell_type": "code",
   "execution_count": null,
   "metadata": {},
   "outputs": [],
   "source": []
  },
  {
   "cell_type": "code",
   "execution_count": null,
   "metadata": {},
   "outputs": [],
   "source": []
  }
 ],
 "metadata": {
  "kernelspec": {
   "display_name": "Python 3",
   "language": "python",
   "name": "python3"
  },
  "language_info": {
   "codemirror_mode": {
    "name": "ipython",
    "version": 3
   },
   "file_extension": ".py",
   "mimetype": "text/x-python",
   "name": "python",
   "nbconvert_exporter": "python",
   "pygments_lexer": "ipython3",
   "version": "3.6.5"
  }
 },
 "nbformat": 4,
 "nbformat_minor": 2
}
